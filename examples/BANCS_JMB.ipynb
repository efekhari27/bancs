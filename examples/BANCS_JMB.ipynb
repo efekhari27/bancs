{
  "cells": [
    {
      "cell_type": "code",
      "execution_count": 1,
      "metadata": {
        "id": "wpZir9IPVu6S"
      },
      "outputs": [],
      "source": [
        "import numpy as np\n",
        "import pandas as pd\n",
        "import openturns as ot\n",
        "from matplotlib import cm\n",
        "from matplotlib import pyplot as plt\n",
        "from bancs import BANCS, NAISAlgorithm, NAISResult"
      ]
    },
    {
      "cell_type": "code",
      "execution_count": 2,
      "metadata": {
        "id": "vU6GyTeSVytq"
      },
      "outputs": [],
      "source": [
        "from matplotlib import rc, rcParams, style\n",
        "#style.use('default')\n",
        "rcParams['text.usetex'] = True\n",
        "#rcParams['text.latex.unicode'] = True\n",
        "rc('font', **{'family': 'Times'})\n",
        "rc('text', usetex=True)\n",
        "rc('font', size=16)# Set the default text font size\n",
        "rc('axes', titlesize=20)# Set the axes title font size\n",
        "rc('axes', labelsize=16)# Set the axes labels font size\n",
        "rc('xtick', labelsize=14)# Set the font size for x tick labels\n",
        "rc('ytick', labelsize=16)# Set the font size for y tick labels\n",
        "rc('legend', fontsize=16)# Set the legend font size"
      ]
    },
    {
      "attachments": {},
      "cell_type": "markdown",
      "metadata": {
        "id": "Ugn7CjdCWmcx"
      },
      "source": [
        "## Reliability problem #3 from the benchmark proposed by J.M. Bourinet"
      ]
    },
    {
      "cell_type": "code",
      "execution_count": 3,
      "metadata": {},
      "outputs": [],
      "source": [
        "# PROBLEM 4 with spike\n",
        "#Zc = \"60 * acosh((2*h)/d)\"\n",
        "#Beta   = \"2*pi*(freq/3e8)\"\n",
        "#gamma  = alp + 1i*Beta\n",
        "#\n",
        "#I1 = \"cosh(gamma*L) * (Z0*Zc + ZL*Zc) + sinh(gamma*L) * (Zc^2 + Z0*ZL)\"    \n",
        "#I2 = \"sin(Beta*h * cos(ThetaP)) / (Beta*h * cos(ThetaP))\"\n",
        "#I3 = 1i*Beta*cos(ThetaP) * (-sin(ThetaE)*cos(ThetaP)*sin(PhiP) + cos(ThetaE)*cos(PhiP))\n",
        "#I4 = 0.5 * (Zc + Z0) * ( (exp((gamma + 1i*Beta*sin(ThetaP)*sin(PhiP))*L)-1) / (gamma + 1i*Beta*sin(ThetaP)*sin(PhiP)) )\n",
        "#I5 = -0.5 * (Zc - Z0) * ( (exp(-(gamma - 1i*Beta*sin(ThetaP)*sin(PhiP))*L)-1) / (gamma - 1i*Beta*sin(ThetaP)*sin(PhiP)) )\n",
        "#I6 = sin(ThetaE)*sin(ThetaP) * ( Zc - (Zc*cosh(gamma*L) + Z0*sinh(gamma*L)) * exp(1i*Beta*L*sin(ThetaP)*sin(PhiP)) )\n",
        "#\n",
        "#g_string = f\"abs( (2*{h}*{aE} / {I1}) * {I2} * ( {I3} * ({I4} + {I5}) + {I6}) )\"\n",
        "#g = ot.SymbolicFunction([\"L\", \"h\", \"d\", \"ZL\", \"Z0\", \"aE\", \"ThetaE\", \"ThetaP\", \"PhiP\", \"freq\", \"alp\"])"
      ]
    },
    {
      "cell_type": "code",
      "execution_count": 4,
      "metadata": {},
      "outputs": [],
      "source": [
        "omegap = \"((kp / mp) ^ 0.5)\"\n",
        "omegas = \"((ks / ms) ^ 0.5)\"\n",
        "gamma = \"(ms / mp)\"\n",
        "zetaa = \"((zetap + zetas) / 2)\"\n",
        "omegaa = f\"(({omegap} + {omegas}) / 2)\"\n",
        "theta = f\"(({omegap} - {omegas}) / {omegaa})\"\n",
        "Exs2 = f\"(pi_ * S0 / (4 * zetas * {omegas} ^ 3) * ({zetaa} * zetas / (zetap * zetas * (4 * {zetaa}^2 + {theta}^2) + {gamma} * {zetaa}^2) * ((zetap * {omegap}^3 + zetas * {omegas}^3) * {omegap} / (4 * {zetaa} * {omegaa}^4))))\"\n",
        "g_string = f\"Fs - ks * 3 * {Exs2}^0.5\"\n",
        "g = ot.SymbolicFunction([\"mp\", \"ms\", \"kp\", \"ks\", \"zetap\", \"zetas\", \"Fs\", \"S0\"], [g_string])"
      ]
    },
    {
      "cell_type": "code",
      "execution_count": 5,
      "metadata": {
        "id": "iv2CtZqqWYHW"
      },
      "outputs": [],
      "source": [
        "mp =    ot.ParametrizedDistribution(ot.LogNormalMuSigmaOverMu(   1.5,     0.1))\n",
        "ms =    ot.ParametrizedDistribution(ot.LogNormalMuSigmaOverMu(   0.01,    0.1))\n",
        "kp =    ot.ParametrizedDistribution(ot.LogNormalMuSigmaOverMu(   1.,      0.2))\n",
        "ks =    ot.ParametrizedDistribution(ot.LogNormalMuSigmaOverMu(   0.01,    0.2))\n",
        "zetap = ot.ParametrizedDistribution(ot.LogNormalMuSigmaOverMu(0.05,    0.4))\n",
        "zetas = ot.ParametrizedDistribution(ot.LogNormalMuSigmaOverMu(0.02,    0.5))\n",
        "Fs =    ot.ParametrizedDistribution(ot.LogNormalMuSigmaOverMu(   27.5,    0.1))\n",
        "S0 =    ot.ParametrizedDistribution(ot.LogNormalMuSigmaOverMu(   100,     0.1))"
      ]
    },
    {
      "cell_type": "code",
      "execution_count": 6,
      "metadata": {
        "id": "yPZt0vN5WzAG"
      },
      "outputs": [],
      "source": [
        "X = ot.ComposedDistribution([mp,ms,kp,ks,zetap,zetas,Fs,S0])\n",
        "Y = ot.CompositeRandomVector(g, ot.RandomVector(X))\n",
        "threshold = 0.\n",
        "failure_event = ot.ThresholdEvent(Y, ot.LessOrEqual(), threshold)\n",
        "# Reference computed using CMC with subset size N=1e7\n",
        "pf_ref = 3.78 * 1e-7"
      ]
    },
    {
      "attachments": {},
      "cell_type": "markdown",
      "metadata": {
        "id": "izs3ZZaAYlHr"
      },
      "source": [
        "## BANCS : Bernstein Adaptive Nonparametric Conditional Sampling"
      ]
    },
    {
      "cell_type": "code",
      "execution_count": 7,
      "metadata": {},
      "outputs": [],
      "source": [
        "N = int(1e4)"
      ]
    },
    {
      "cell_type": "code",
      "execution_count": 13,
      "metadata": {},
      "outputs": [
        {
          "name": "stdout",
          "output_type": "stream",
          "text": [
            "Quantiles = [17.07662212 11.62279389  7.20298635  2.95044132 -1.83139639]\n",
            "Proba BANCS = 3.87e-07\n",
            "Relative error = 2.47%\n"
          ]
        }
      ],
      "source": [
        "bancs = BANCS(failure_event, N=N, M=4, p0=0.1, lower_truncatures=[0.] * 8)\n",
        "quantiles = bancs.run()\n",
        "pf = bancs.compute_pf()\n",
        "print(\"Quantiles =\", quantiles)\n",
        "print(f\"Proba BANCS = {pf:.2e}\")\n",
        "print(f\"Relative error = {np.abs(pf - pf_ref) / pf_ref:.2%}\")"
      ]
    },
    {
      "cell_type": "code",
      "execution_count": null,
      "metadata": {},
      "outputs": [],
      "source": []
    },
    {
      "cell_type": "code",
      "execution_count": null,
      "metadata": {},
      "outputs": [],
      "source": []
    }
  ],
  "metadata": {
    "colab": {
      "provenance": []
    },
    "kernelspec": {
      "display_name": "visu",
      "language": "python",
      "name": "python3"
    },
    "language_info": {
      "codemirror_mode": {
        "name": "ipython",
        "version": 3
      },
      "file_extension": ".py",
      "mimetype": "text/x-python",
      "name": "python",
      "nbconvert_exporter": "python",
      "pygments_lexer": "ipython3",
      "version": "3.12.7"
    }
  },
  "nbformat": 4,
  "nbformat_minor": 0
}
